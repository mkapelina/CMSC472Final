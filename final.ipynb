{
  "nbformat": 4,
  "nbformat_minor": 0,
  "metadata": {
    "colab": {
      "name": "final.ipynb",
      "provenance": []
    },
    "kernelspec": {
      "name": "python3",
      "display_name": "Python 3"
    },
    "language_info": {
      "name": "python"
    }
  },
  "cells": [
    {
      "cell_type": "markdown",
      "metadata": {
        "id": "iLLW98Exc6OG"
      },
      "source": [
        "**CMSC472 Final Project**\n",
        "\n",
        "**Flood Identification and Classification**\n",
        "\n",
        "**By Maxim Kapelina, Jay Lyashko, Marc Haller, Matt Wong, and Layke Martin**"
      ]
    },
    {
      "cell_type": "code",
      "metadata": {
        "colab": {
          "base_uri": "https://localhost:8080/"
        },
        "id": "u3mM2wvDc4fE",
        "outputId": "00eef98a-ae71-4dea-94c9-0e005d9bf7ca"
      },
      "source": [
        "print(\"hello world\")"
      ],
      "execution_count": 1,
      "outputs": [
        {
          "output_type": "stream",
          "text": [
            "hello world\n"
          ],
          "name": "stdout"
        }
      ]
    }
  ]
}